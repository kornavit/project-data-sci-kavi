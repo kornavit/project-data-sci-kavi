{
 "cells": [
  {
   "attachments": {},
   "cell_type": "markdown",
   "metadata": {},
   "source": [
    "### รายชื่อกลุ่ม\n",
    "- #### นาย กรณวิทย์ พัฒนโชควานิช 6410450079\n",
    "- #### นาย รัชพล หินซุย 6410450257\n",
    "- #### นาย ปาณชัย คชกาษร 6410450176\n",
    "- #### นาย ธนดล กฤตวีรนันท์ 6410450974"
   ]
  },
  {
   "attachments": {},
   "cell_type": "markdown",
   "metadata": {},
   "source": [
    "### อธิบายถึงข้อมูล\n",
    "Kiva.org เป็นแพลตฟอร์มการระดมทุนออนไลน์เพื่อขยายบริการทางการเงินให้กับคนยากจนและถูกกีดกันทางการเงินทั่วโลก ผู้ให้กู้ Kiva ได้ให้เงินกู้ยืมมากกว่า 1 พันล้านดอลลาร์แก่ผู้คนกว่า 2 ล้านคน เพื่อกำหนดลำดับความสำคัญของการลงทุน ช่วยแจ้งผู้ให้กู้ และทำความเข้าใจกับชุมชนเป้าหมาย การทราบระดับความยากจนของผู้กู้แต่ละรายเป็นสิ่งสำคัญ อย่างไรก็ตาม ต้องใช้การอนุมานตามชุดข้อมูลที่จำกัดสำหรับผู้กู้แต่ละราย\n",
    "\n",
    "### ที่มาของข้อมูล\n",
    "- [kiva mpi region location](https://www.kaggle.com/datasets/kiva/data-science-for-good-kiva-crowdfunding?resource=download&select=kiva_mpi_region_locations.csv)\n",
    "\n",
    "- [loan theme by region](https://www.kaggle.com/datasets/kiva/data-science-for-good-kiva-crowdfunding?resource=download&select=loan_themes_by_region.csv)\n",
    "\n",
    "### ข้อมูลชุดนี้คนเก็บโดย\n",
    "Kiva Crowdfunding\n",
    "\n",
    "### รายละเอียดแต่ละ columns ของ kiva mpi region location\n",
    "- <u>country</u> :  ชื่อประเทศที่ภูมิภาคนี้อยู่\n",
    "- <u>region</u> : ชื่อภูมิภาค\n",
    "- <u>world_region</u> : ชื่อโซนของโลกที่ภูมิภาคนี้อยู่\n",
    "- <u>MPI</u> : ค่า MPI ของภูมิภาคนี้\n",
    "- <u>geo</u> : พิกัดภูมิศาสตร์ของภูมิภาคนี้ (latitude, longitude)\n",
    "- <u>MPI Rural, MPI Urban</u> : ค่า MPI สำหรับภูมิภาคชนบทและภูมิภาคเมืองของภูมิภาคนี้\n",
    "\n",
    "### รายละเอียดแต่ละ columns ของ loan theme by region\n",
    "- <u>Field Partner Name</u>: ชื่อผู้ให้บริการกู้ยืมเงิน\n",
    "- <u>sector</u>: กลุ่มอุตสาหกรรมหรือกิจกรรมที่ผู้กู้มีส่วนเกี่ยวข้อง เช่น การเกษตร, การผลิต, การค้าปลีก, การศึกษา\n",
    "- <u>Loan Theme Type</u> : ประเภทของการกู้ยืม เช่น กู้ยืมเพื่อการศึกษา, กู้ยืมเพื่อซื้ออุปกรณ์การผลิต\n",
    "- <u>country</u> : ชื่อประเทศ\n",
    "- <u>region</u> : ชื่อภูมิภาค\n",
    "- <u>amount</u> : จำนวนเงินที่กู้ยืมในหน่วยเงินตราของประเทศนั้นๆ\n",
    "- <u>funded_amount</u> : จำนวนเงินที่ได้รับการจัดสรรเพื่อการกู้ยืมในหน่วยเงินตราของประเทศนั้นๆ\n",
    "- <u>repayment_interval</u> : ระยะเวลาในการชำระเงินคืน เช่น ชำระทุกสัปดาห์, ชำระทุกเดือน, ชำระเมื่อได้รับเงิน\n",
    "- <u>geo</u> : ตำแหน่งภูมิศาสตร์ของภูมิภาคในรูปแบบ latitude, longitude\n",
    "- <u>rural_pct</u> : บอกสัดส่วนของประชากรในพื้นที่ที่มีลักษณะชนบทหรือไม่เป็นเมือง โดยค่าสูงสุดของตัวแปรนี้จะเท่ากับ 100% หมายความว่าทุกคนในพื้นที่นั้นเป็นประชากรชนบท และค่าต่ำสุดของตัวแปรนี้จะเป็น 0% หมายความว่าทุกคนในพื้นที่นั้นเป็นประชากรในเมือง"
   ]
  },
  {
   "attachments": {},
   "cell_type": "markdown",
   "metadata": {},
   "source": [
    "### รายละเอียดแต่ละ columns ของ kiva loan\n",
    "- <u>id</u>: เลขประจำตัวของสัญญากู้ยืมเงิน (loan) บนแพลตฟอร์ม Kiva\n",
    "- <u>funded_amount</u>: จำนวนเงินที่ได้รับการสนับสนุน (funding) จากผู้ให้กู้ในสัญญานี้\n",
    "- <u>loan_amount</u>: จำนวนเงินที่ถูกขอกู้ในสัญญานี้\n",
    "- <u>activity</u>: กิจกรรมหลักที่ผู้กู้ต้องการใช้เงินกู้ในการดำเนินชีวิต\n",
    "- <u>sector</u>: ภูมิภาคของกิจกรรมหลัก (เช่น การศึกษา, การผลิต, การค้าส่ง)\n",
    "- <u>use</u>: วัตถุประสงค์หลักที่ผู้กู้ต้องการใช้เงินกู้\n",
    "- <u>country_code</u>: รหัสประเทศของที่อยู่ของผู้กู้\n",
    "- <u>country</u>: ชื่อประเทศของที่อยู่ของผู้กู้\n",
    "- <u>region</u>: ชื่อของเมืองหรือชื่อภูมิภาค\n",
    "- <u>currency</u>: สกุลเงินที่ใช้ในสัญญานี้\n",
    "- <u>partner_id</u>: รหัสพันธมิตรที่เชื่อมโยงกับสัญญานี้ (หน่วยงานที่ช่วยสนับสนุนการกู้ยืมเงินใน Kiva)\n",
    "- <u>posted_time</u>: วันที่และเวลาที่สัญญาถูกโพสต์บนแพลตฟอร์ม Kiva\n",
    "- <u>disbursed_time</u>: วันที่และเวลาที่เงินกู้\n",
    "- <u>funded_time</u>: วันที่และเวลาที่เงินกู้ถูกเตมเตมจนสมบรณบนแพลตฟอรม Kiva\n",
    "- <u>term_in_months</u>: ระยะเวลาที่ต้องชำระต่อเดือน\n",
    "- <u>lender_count</u>: จำนวนผู้ให้กู้ที่มีส่วนร่วมในการสนับสนุนสัญญาที่บัญชาใน 1 การกู้\n",
    "- <u>tags</u>: แทกทเกยวของกบสญญาน (คำอธบายยอยเกยวกบการใชเงนก)\n",
    "- <u>borrower_genders</u>: เพศของผู้กู้\n",
    "- <u>repayment_interval</u>: รูปแบบการชำระเงินกู้ (รายเดือน, รายปี, ไม่ระบุ)\n",
    "- <u>date</u>: วันที่และเวลาที่สัญญาถูกนำเข้ามายงฐานขอมลของ Kiva"
   ]
  },
  {
   "attachments": {},
   "cell_type": "markdown",
   "metadata": {},
   "source": [
    "### หัวข้อที่สนใจ"
   ]
  },
  {
   "attachments": {},
   "cell_type": "markdown",
   "metadata": {},
   "source": [
    "การวิเคราะห์ความสัมพันธ์ระหว่าง ความสามารถในการชำระเงินคืนของแต่ละประเทศกับสภาพเศรษฐกิจและสังคม"
   ]
  },
  {
   "attachments": {},
   "cell_type": "markdown",
   "metadata": {},
   "source": [
    "###  เพื่ออะไร\n",
    "เพื่อนำข้อมูลที่ได้ไปวิเคราะห์เชิงสถิติที่น่าสนใจ เช่น ค่าเฉลี่ยการชำระเงินคืนในแต่ละประเทศ แนวโน้มของการกู้ยืมเงินในแต่ละประเทศ ปัจจัยที่มีผลต่อการชำระเงินคืน เช่น ระดับการศึกษาของผู้กู้ยืม เปอร์เซ็นต์ผู้หญิงที่กู้ยืมเงิน รวมถึงตัวแปรอื่นๆ ที่สามารถส่องได้จากข้อมูลใน dataset นี้ เพื่อให้เกิดความเข้าใจและเสริมสร้างความรู้ในการวิเคราะห์ข้อมูลในด้านการกู้ยืมเงินและสภาพเศรษฐกิจของแต่ละประเทศ\n",
    "\n",
    "1. สร้างข้อมูลสถิติพื้นฐานเกี่ยวกับการชำระเงินคืนและสภาพเศรษฐกิจของแต่ละประเทศ เพื่อหาความสัมพันธ์ระหว่างพวกนี้\n",
    "วิเคราะห์และสรุปข้อมูลเพื่อหาข้อสรุปที่น่าสนใจเกี่ยวกับความสัมพันธ์ระหว่างการชำระเงินคืนและสภาพเศรษฐกิจของแต่ละประเทศ\n",
    "2. สร้างโมเดลการพยากรณ์เพื่อทำนายการชำระเงินคืนในอนาคตของแต่ละประเทศโดยใช้ข้อมูลสภาพเศรษฐกิจและสังคมเป็นตัวแปรอิสระ\n",
    "3. วิเคราะห์ข้อมูลเพื่อหาตัวแปรสำคัญที่ส่งผลต่อการชำระเงินคืนในแต่ละประเทศ เช่น อัตราการเงินเดือนเฉลี่ย ราคาอสังหาริมทรัพย์ หรือค่าโดยสารสาธารณะ\n",
    "4. ทำการจัดเรียงข้อมูลให้เหมาะสมเพื่อนำไปใช้ในการสร้างกราฟและแผนภูมิเพื่อให้ผู้อื่นเข้าใจข้อมูลได้ง่ายขึ้น\n"
   ]
  },
  {
   "attachments": {},
   "cell_type": "markdown",
   "metadata": {},
   "source": [
    "### DATA CLEANING"
   ]
  },
  {
   "attachments": {},
   "cell_type": "markdown",
   "metadata": {},
   "source": [
    "ทำการรวมข้อมูลที่ต้องการใช้งาน นั่นคือ เอา kiva_mpi_region_locations.csv และ loan_themes_by_region.csv มารวมกันเพื่อให้เราสามารถวิเคราะห์ความสัมพันธ์ระหว่างการกู้ยืมและสภาพเศรษฐกิจและสังคมของแต่ละภูมิภาคหรือพื้นที่ในแต่ละประเทศได้ โดยทั้งสองตารางนี้มีข้อมูลเกี่ยวกับพื้นที่ของแต่ละประเทศ โดย kiva_mpi_region_locations.csv มีข้อมูลเกี่ยวกับดัชนีความยากจนในแต่ละพื้นที่ของแต่ละประเทศ และ loan_themes_by_region.csv มีข้อมูลเกี่ยวกับประเภทของการกู้ยืมและจำนวนเงินที่กู้ยืมในแต่ละพื้นที่ของแต่ละประเทศ"
   ]
  },
  {
   "attachments": {},
   "cell_type": "markdown",
   "metadata": {},
   "source": [
    "#### การอ่านไฟล์ csv และการสำรวจข้อมูล โดยใช้ไลบรารี่ pandas เพื่ออ่านไฟล์ csv และดูข้อมูลตัวอย่างในไฟล์"
   ]
  },
  {
   "cell_type": "code",
   "execution_count": 60,
   "metadata": {},
   "outputs": [
    {
     "name": "stdout",
     "output_type": "stream",
     "text": [
      "<class 'pandas.core.frame.DataFrame'>\n",
      "RangeIndex: 2772 entries, 0 to 2771\n",
      "Data columns (total 9 columns):\n",
      " #   Column        Non-Null Count  Dtype  \n",
      "---  ------        --------------  -----  \n",
      " 0   LocationName  984 non-null    object \n",
      " 1   ISO           1008 non-null   object \n",
      " 2   country       1008 non-null   object \n",
      " 3   region        984 non-null    object \n",
      " 4   world_region  1008 non-null   object \n",
      " 5   MPI           984 non-null    float64\n",
      " 6   geo           2772 non-null   object \n",
      " 7   lat           892 non-null    float64\n",
      " 8   lon           892 non-null    float64\n",
      "dtypes: float64(3), object(6)\n",
      "memory usage: 195.0+ KB\n",
      "None\n"
     ]
    }
   ],
   "source": [
    "import pandas as pd\n",
    "import numpy as np\n",
    "\n",
    "# อ่านไฟล์ csv และเก็บข้อมูลใน dataframe\n",
    "df_kiva_mpi = pd.read_csv('dataset/kiva_mpi_region_locations.csv')\n",
    "kiva_loans = pd.read_csv('dataset/kiva_loans.csv')\n",
    "df_loan_themes_by_region = pd.read_csv('dataset/loan_themes_by_region.csv')\n",
    "\n",
    "# ดูข้อมูลตัวอย่างใน dataframe\n",
    "print(df_kiva_mpi.info())\n",
    "\n"
   ]
  },
  {
   "cell_type": "code",
   "execution_count": 61,
   "metadata": {},
   "outputs": [
    {
     "name": "stdout",
     "output_type": "stream",
     "text": [
      "<class 'pandas.core.frame.DataFrame'>\n",
      "RangeIndex: 671205 entries, 0 to 671204\n",
      "Data columns (total 20 columns):\n",
      " #   Column              Non-Null Count   Dtype  \n",
      "---  ------              --------------   -----  \n",
      " 0   id                  671205 non-null  int64  \n",
      " 1   funded_amount       671205 non-null  float64\n",
      " 2   loan_amount         671205 non-null  float64\n",
      " 3   activity            671205 non-null  object \n",
      " 4   sector              671205 non-null  object \n",
      " 5   use                 666973 non-null  object \n",
      " 6   country_code        671197 non-null  object \n",
      " 7   country             671205 non-null  object \n",
      " 8   region              614405 non-null  object \n",
      " 9   currency            671205 non-null  object \n",
      " 10  partner_id          657698 non-null  float64\n",
      " 11  posted_time         671205 non-null  object \n",
      " 12  disbursed_time      668809 non-null  object \n",
      " 13  funded_time         622874 non-null  object \n",
      " 14  term_in_months      671205 non-null  float64\n",
      " 15  lender_count        671205 non-null  int64  \n",
      " 16  tags                499789 non-null  object \n",
      " 17  borrower_genders    666984 non-null  object \n",
      " 18  repayment_interval  671205 non-null  object \n",
      " 19  date                671205 non-null  object \n",
      "dtypes: float64(4), int64(2), object(14)\n",
      "memory usage: 102.4+ MB\n",
      "None\n"
     ]
    }
   ],
   "source": [
    "print(kiva_loans.info())\n"
   ]
  },
  {
   "cell_type": "code",
   "execution_count": 62,
   "metadata": {},
   "outputs": [
    {
     "name": "stdout",
     "output_type": "stream",
     "text": [
      "<class 'pandas.core.frame.DataFrame'>\n",
      "RangeIndex: 15736 entries, 0 to 15735\n",
      "Data columns (total 21 columns):\n",
      " #   Column              Non-Null Count  Dtype  \n",
      "---  ------              --------------  -----  \n",
      " 0   Partner ID          15736 non-null  int64  \n",
      " 1   Field Partner Name  15736 non-null  object \n",
      " 2   sector              15736 non-null  object \n",
      " 3   Loan Theme ID       15736 non-null  object \n",
      " 4   Loan Theme Type     15736 non-null  object \n",
      " 5   country             15736 non-null  object \n",
      " 6   forkiva             15736 non-null  object \n",
      " 7   region              15736 non-null  object \n",
      " 8   geocode_old         1200 non-null   object \n",
      " 9   ISO                 15722 non-null  object \n",
      " 10  number              15736 non-null  int64  \n",
      " 11  amount              15736 non-null  int64  \n",
      " 12  LocationName        15736 non-null  object \n",
      " 13  geocode             13662 non-null  object \n",
      " 14  names               13661 non-null  object \n",
      " 15  geo                 15736 non-null  object \n",
      " 16  lat                 13662 non-null  float64\n",
      " 17  lon                 13662 non-null  float64\n",
      " 18  mpi_region          15722 non-null  object \n",
      " 19  mpi_geo             9671 non-null   object \n",
      " 20  rural_pct           14344 non-null  float64\n",
      "dtypes: float64(3), int64(3), object(15)\n",
      "memory usage: 2.5+ MB\n",
      "None\n"
     ]
    }
   ],
   "source": [
    "print(df_loan_themes_by_region.info())"
   ]
  },
  {
   "attachments": {},
   "cell_type": "markdown",
   "metadata": {},
   "source": [
    "### Clean Data kiva_loans.csv"
   ]
  },
  {
   "attachments": {},
   "cell_type": "markdown",
   "metadata": {},
   "source": [
    "#### ลบคอลัมน์ที่ไม่ต้องการ"
   ]
  },
  {
   "cell_type": "code",
   "execution_count": 63,
   "metadata": {},
   "outputs": [],
   "source": [
    "kiva_loans = kiva_loans.drop(['use', 'tags', 'borrower_genders'], axis=1)"
   ]
  },
  {
   "attachments": {},
   "cell_type": "markdown",
   "metadata": {},
   "source": [
    "#### แปลงคอลัมน์ funded_time, planned_expiration_time, posted_time เป็น datetime format"
   ]
  },
  {
   "cell_type": "code",
   "execution_count": 64,
   "metadata": {},
   "outputs": [],
   "source": [
    "kiva_loans['funded_time'] = pd.to_datetime(kiva_loans['funded_time'])\n",
    "kiva_loans['posted_time'] = pd.to_datetime(kiva_loans['posted_time'])\n",
    "kiva_loans['disbursed_time'] = pd.to_datetime(kiva_loans['disbursed_time'])"
   ]
  },
  {
   "attachments": {},
   "cell_type": "markdown",
   "metadata": {},
   "source": [
    "#### แปลงคอลัมน์ term_in_months เป็น float และ ปัดเศษลง"
   ]
  },
  {
   "cell_type": "code",
   "execution_count": 65,
   "metadata": {},
   "outputs": [],
   "source": [
    "kiva_loans['term_in_months'] = kiva_loans['term_in_months'].astype(float).apply(np.floor)"
   ]
  },
  {
   "attachments": {},
   "cell_type": "markdown",
   "metadata": {},
   "source": [
    "#### แปลงคอลัมน์ loan_amount เป็น int"
   ]
  },
  {
   "cell_type": "code",
   "execution_count": 66,
   "metadata": {},
   "outputs": [],
   "source": [
    "kiva_loans['loan_amount'] = kiva_loans['loan_amount'].astype(int)"
   ]
  },
  {
   "attachments": {},
   "cell_type": "markdown",
   "metadata": {},
   "source": [
    "#### แปลงคอลัมน์ lender_count เป็น int"
   ]
  },
  {
   "cell_type": "code",
   "execution_count": 67,
   "metadata": {},
   "outputs": [],
   "source": [
    "kiva_loans['lender_count'] = kiva_loans['lender_count'].astype(int)"
   ]
  },
  {
   "attachments": {},
   "cell_type": "markdown",
   "metadata": {},
   "source": [
    "#### แปลงคอลัมน์ country_code เป็น category"
   ]
  },
  {
   "cell_type": "code",
   "execution_count": 68,
   "metadata": {},
   "outputs": [],
   "source": [
    "kiva_loans['country_code'] = kiva_loans['country_code'].astype('category')"
   ]
  },
  {
   "attachments": {},
   "cell_type": "markdown",
   "metadata": {},
   "source": [
    "#### แปลงคอลัมน์ repayment_interval เป็น category"
   ]
  },
  {
   "cell_type": "code",
   "execution_count": 69,
   "metadata": {},
   "outputs": [],
   "source": [
    "kiva_loans['repayment_interval'] = kiva_loans['repayment_interval'].astype('category')"
   ]
  },
  {
   "attachments": {},
   "cell_type": "markdown",
   "metadata": {},
   "source": [
    "#### ลบแถวที่มี missing value"
   ]
  },
  {
   "cell_type": "code",
   "execution_count": 70,
   "metadata": {},
   "outputs": [],
   "source": [
    "kiva_loans = kiva_loans.dropna()"
   ]
  },
  {
   "attachments": {},
   "cell_type": "markdown",
   "metadata": {},
   "source": [
    "#### ลบแถวที่ loan_amount เป็น 0"
   ]
  },
  {
   "cell_type": "code",
   "execution_count": 71,
   "metadata": {},
   "outputs": [],
   "source": [
    "kiva_loans = kiva_loans[kiva_loans['loan_amount'] != 0]"
   ]
  },
  {
   "attachments": {},
   "cell_type": "markdown",
   "metadata": {},
   "source": [
    "### Clean Data loan_themes_by_region.csv"
   ]
  },
  {
   "attachments": {},
   "cell_type": "markdown",
   "metadata": {},
   "source": [
    "#### แทนค่า missing value ใน column amount ด้วยค่าเฉลี่ยของ column นั้น"
   ]
  },
  {
   "cell_type": "code",
   "execution_count": 72,
   "metadata": {},
   "outputs": [],
   "source": [
    "amount_mean = df_loan_themes_by_region[\"amount\"].mean()\n",
    "df_loan_themes_by_region[\"amount\"].fillna(amount_mean, inplace=True)"
   ]
  },
  {
   "attachments": {},
   "cell_type": "markdown",
   "metadata": {},
   "source": [
    "### Clean kiva_mpi_region_locations.csv"
   ]
  },
  {
   "attachments": {},
   "cell_type": "markdown",
   "metadata": {},
   "source": [
    "#### เลือกและเปลี่ยนชื่อ columns ที่ต้องการ"
   ]
  },
  {
   "cell_type": "code",
   "execution_count": 74,
   "metadata": {},
   "outputs": [],
   "source": [
    "df_kiva_mpi=df_kiva_mpi[['LocationName', 'ISO', 'country', 'region', 'world_region', 'MPI', 'geo', 'lat', 'lon']]\n",
    "df_kiva_mpi.columns = ['location_name', 'iso_code', 'country', 'region', 'world_region', 'mpi', 'geo', 'latitude', 'longitude']"
   ]
  },
  {
   "attachments": {},
   "cell_type": "markdown",
   "metadata": {},
   "source": [
    "#### แปลงตัวเลขจาก string เป็น float"
   ]
  },
  {
   "cell_type": "code",
   "execution_count": 76,
   "metadata": {},
   "outputs": [],
   "source": [
    "df_kiva_mpi['mpi'] = df_kiva_mpi['mpi'].astype(float)"
   ]
  },
  {
   "attachments": {},
   "cell_type": "markdown",
   "metadata": {},
   "source": [
    "#### ลบแถวที่มีค่า MPI เป็น NaN"
   ]
  },
  {
   "cell_type": "code",
   "execution_count": 77,
   "metadata": {},
   "outputs": [],
   "source": [
    "df_kiva_mpi=df_kiva_mpi.dropna(subset=['mpi'])"
   ]
  },
  {
   "cell_type": "code",
   "execution_count": 78,
   "metadata": {},
   "outputs": [
    {
     "name": "stdout",
     "output_type": "stream",
     "text": [
      "<class 'pandas.core.frame.DataFrame'>\n",
      "Int64Index: 984 entries, 0 to 1007\n",
      "Data columns (total 9 columns):\n",
      " #   Column         Non-Null Count  Dtype  \n",
      "---  ------         --------------  -----  \n",
      " 0   location_name  984 non-null    object \n",
      " 1   iso_code       984 non-null    object \n",
      " 2   country        984 non-null    object \n",
      " 3   region         984 non-null    object \n",
      " 4   world_region   984 non-null    object \n",
      " 5   mpi            984 non-null    float64\n",
      " 6   geo            984 non-null    object \n",
      " 7   latitude       892 non-null    float64\n",
      " 8   longitude      892 non-null    float64\n",
      "dtypes: float64(3), object(6)\n",
      "memory usage: 76.9+ KB\n",
      "None\n"
     ]
    }
   ],
   "source": [
    "print(df_kiva_mpi.info())"
   ]
  },
  {
   "attachments": {},
   "cell_type": "markdown",
   "metadata": {},
   "source": [
    "### เมื่อทำ การ clean data ทั้งสาม dataset แล้ว เราจะนำมารวมกันโดยการ join เพื่อนำไปวิเคราะห์ และ หา insight ขอ ข้อมูลที่น่าสนใจต่อไป"
   ]
  },
  {
   "cell_type": "code",
   "execution_count": 80,
   "metadata": {},
   "outputs": [
    {
     "data": {
      "text/html": [
       "<div>\n",
       "<style scoped>\n",
       "    .dataframe tbody tr th:only-of-type {\n",
       "        vertical-align: middle;\n",
       "    }\n",
       "\n",
       "    .dataframe tbody tr th {\n",
       "        vertical-align: top;\n",
       "    }\n",
       "\n",
       "    .dataframe thead th {\n",
       "        text-align: right;\n",
       "    }\n",
       "</style>\n",
       "<table border=\"1\" class=\"dataframe\">\n",
       "  <thead>\n",
       "    <tr style=\"text-align: right;\">\n",
       "      <th></th>\n",
       "      <th>id</th>\n",
       "      <th>funded_amount</th>\n",
       "      <th>loan_amount</th>\n",
       "      <th>activity</th>\n",
       "      <th>sector_x</th>\n",
       "      <th>country_code</th>\n",
       "      <th>country_x</th>\n",
       "      <th>region</th>\n",
       "      <th>currency</th>\n",
       "      <th>partner_id</th>\n",
       "      <th>...</th>\n",
       "      <th>amount</th>\n",
       "      <th>LocationName</th>\n",
       "      <th>geocode</th>\n",
       "      <th>names</th>\n",
       "      <th>geo</th>\n",
       "      <th>lat</th>\n",
       "      <th>lon</th>\n",
       "      <th>mpi_region</th>\n",
       "      <th>mpi_geo</th>\n",
       "      <th>rural_pct</th>\n",
       "    </tr>\n",
       "  </thead>\n",
       "  <tbody>\n",
       "    <tr>\n",
       "      <th>0</th>\n",
       "      <td>653051</td>\n",
       "      <td>300.0</td>\n",
       "      <td>300</td>\n",
       "      <td>Fruits &amp; Vegetables</td>\n",
       "      <td>Food</td>\n",
       "      <td>PK</td>\n",
       "      <td>Pakistan</td>\n",
       "      <td>Lahore</td>\n",
       "      <td>PKR</td>\n",
       "      <td>247.0</td>\n",
       "      <td>...</td>\n",
       "      <td>124250.0</td>\n",
       "      <td>Lahore, Pakistan</td>\n",
       "      <td>[(31.55460609999999, 74.3571581)]</td>\n",
       "      <td>Lahore; Lahore District; Punjab; Pakistan</td>\n",
       "      <td>(31.55460609999999, 74.3571581)</td>\n",
       "      <td>31.554606</td>\n",
       "      <td>74.357158</td>\n",
       "      <td>Punjab, Pakistan</td>\n",
       "      <td>(31.1704063, 72.7097161)</td>\n",
       "      <td>25.0</td>\n",
       "    </tr>\n",
       "    <tr>\n",
       "      <th>1</th>\n",
       "      <td>653051</td>\n",
       "      <td>300.0</td>\n",
       "      <td>300</td>\n",
       "      <td>Fruits &amp; Vegetables</td>\n",
       "      <td>Food</td>\n",
       "      <td>PK</td>\n",
       "      <td>Pakistan</td>\n",
       "      <td>Lahore</td>\n",
       "      <td>PKR</td>\n",
       "      <td>247.0</td>\n",
       "      <td>...</td>\n",
       "      <td>199225.0</td>\n",
       "      <td>Lahore, Pakistan</td>\n",
       "      <td>[(31.55460609999999, 74.3571581)]</td>\n",
       "      <td>Lahore; Lahore District; Punjab; Pakistan</td>\n",
       "      <td>(31.55460609999999, 74.3571581)</td>\n",
       "      <td>31.554606</td>\n",
       "      <td>74.357158</td>\n",
       "      <td>Punjab, Pakistan</td>\n",
       "      <td>(31.1704063, 72.7097161)</td>\n",
       "      <td>25.0</td>\n",
       "    </tr>\n",
       "    <tr>\n",
       "      <th>2</th>\n",
       "      <td>653051</td>\n",
       "      <td>300.0</td>\n",
       "      <td>300</td>\n",
       "      <td>Fruits &amp; Vegetables</td>\n",
       "      <td>Food</td>\n",
       "      <td>PK</td>\n",
       "      <td>Pakistan</td>\n",
       "      <td>Lahore</td>\n",
       "      <td>PKR</td>\n",
       "      <td>247.0</td>\n",
       "      <td>...</td>\n",
       "      <td>1719325.0</td>\n",
       "      <td>Lahore, Pakistan</td>\n",
       "      <td>[(31.55460609999999, 74.3571581)]</td>\n",
       "      <td>Lahore; Lahore District; Punjab; Pakistan</td>\n",
       "      <td>(31.55460609999999, 74.3571581)</td>\n",
       "      <td>31.554606</td>\n",
       "      <td>74.357158</td>\n",
       "      <td>Punjab, Pakistan</td>\n",
       "      <td>(31.1704063, 72.7097161)</td>\n",
       "      <td>0.0</td>\n",
       "    </tr>\n",
       "    <tr>\n",
       "      <th>3</th>\n",
       "      <td>653051</td>\n",
       "      <td>300.0</td>\n",
       "      <td>300</td>\n",
       "      <td>Fruits &amp; Vegetables</td>\n",
       "      <td>Food</td>\n",
       "      <td>PK</td>\n",
       "      <td>Pakistan</td>\n",
       "      <td>Lahore</td>\n",
       "      <td>PKR</td>\n",
       "      <td>247.0</td>\n",
       "      <td>...</td>\n",
       "      <td>38250.0</td>\n",
       "      <td>Lahore, Pakistan</td>\n",
       "      <td>[(31.55460609999999, 74.3571581)]</td>\n",
       "      <td>Lahore; Lahore District; Punjab; Pakistan</td>\n",
       "      <td>(31.55460609999999, 74.3571581)</td>\n",
       "      <td>31.554606</td>\n",
       "      <td>74.357158</td>\n",
       "      <td>Punjab, Pakistan</td>\n",
       "      <td>(31.1704063, 72.7097161)</td>\n",
       "      <td>0.0</td>\n",
       "    </tr>\n",
       "    <tr>\n",
       "      <th>4</th>\n",
       "      <td>653053</td>\n",
       "      <td>575.0</td>\n",
       "      <td>575</td>\n",
       "      <td>Rickshaw</td>\n",
       "      <td>Transportation</td>\n",
       "      <td>PK</td>\n",
       "      <td>Pakistan</td>\n",
       "      <td>Lahore</td>\n",
       "      <td>PKR</td>\n",
       "      <td>247.0</td>\n",
       "      <td>...</td>\n",
       "      <td>124250.0</td>\n",
       "      <td>Lahore, Pakistan</td>\n",
       "      <td>[(31.55460609999999, 74.3571581)]</td>\n",
       "      <td>Lahore; Lahore District; Punjab; Pakistan</td>\n",
       "      <td>(31.55460609999999, 74.3571581)</td>\n",
       "      <td>31.554606</td>\n",
       "      <td>74.357158</td>\n",
       "      <td>Punjab, Pakistan</td>\n",
       "      <td>(31.1704063, 72.7097161)</td>\n",
       "      <td>25.0</td>\n",
       "    </tr>\n",
       "    <tr>\n",
       "      <th>...</th>\n",
       "      <td>...</td>\n",
       "      <td>...</td>\n",
       "      <td>...</td>\n",
       "      <td>...</td>\n",
       "      <td>...</td>\n",
       "      <td>...</td>\n",
       "      <td>...</td>\n",
       "      <td>...</td>\n",
       "      <td>...</td>\n",
       "      <td>...</td>\n",
       "      <td>...</td>\n",
       "      <td>...</td>\n",
       "      <td>...</td>\n",
       "      <td>...</td>\n",
       "      <td>...</td>\n",
       "      <td>...</td>\n",
       "      <td>...</td>\n",
       "      <td>...</td>\n",
       "      <td>...</td>\n",
       "      <td>...</td>\n",
       "      <td>...</td>\n",
       "    </tr>\n",
       "    <tr>\n",
       "      <th>2317448</th>\n",
       "      <td>1340272</td>\n",
       "      <td>75.0</td>\n",
       "      <td>75</td>\n",
       "      <td>Livestock</td>\n",
       "      <td>Agriculture</td>\n",
       "      <td>MX</td>\n",
       "      <td>Mexico</td>\n",
       "      <td>Iztacalco</td>\n",
       "      <td>MXN</td>\n",
       "      <td>294.0</td>\n",
       "      <td>...</td>\n",
       "      <td>1225.0</td>\n",
       "      <td>Iztacalco, Mexico</td>\n",
       "      <td>[(19.3948036, -99.09768079999999)]</td>\n",
       "      <td>Iztacalco; Mexico City; Mexico City; Mexico</td>\n",
       "      <td>(19.3948036, -99.09768079999999)</td>\n",
       "      <td>19.394804</td>\n",
       "      <td>-99.097681</td>\n",
       "      <td>MEX</td>\n",
       "      <td>NaN</td>\n",
       "      <td>0.0</td>\n",
       "    </tr>\n",
       "    <tr>\n",
       "      <th>2317449</th>\n",
       "      <td>1340253</td>\n",
       "      <td>25.0</td>\n",
       "      <td>25</td>\n",
       "      <td>Livestock</td>\n",
       "      <td>Agriculture</td>\n",
       "      <td>PY</td>\n",
       "      <td>Paraguay</td>\n",
       "      <td>Concepción</td>\n",
       "      <td>USD</td>\n",
       "      <td>58.0</td>\n",
       "      <td>...</td>\n",
       "      <td>NaN</td>\n",
       "      <td>NaN</td>\n",
       "      <td>NaN</td>\n",
       "      <td>NaN</td>\n",
       "      <td>NaN</td>\n",
       "      <td>NaN</td>\n",
       "      <td>NaN</td>\n",
       "      <td>NaN</td>\n",
       "      <td>NaN</td>\n",
       "      <td>NaN</td>\n",
       "    </tr>\n",
       "    <tr>\n",
       "      <th>2317450</th>\n",
       "      <td>1340256</td>\n",
       "      <td>25.0</td>\n",
       "      <td>25</td>\n",
       "      <td>Livestock</td>\n",
       "      <td>Agriculture</td>\n",
       "      <td>PK</td>\n",
       "      <td>Pakistan</td>\n",
       "      <td>Attock</td>\n",
       "      <td>PKR</td>\n",
       "      <td>245.0</td>\n",
       "      <td>...</td>\n",
       "      <td>1700.0</td>\n",
       "      <td>Attock, Pakistan</td>\n",
       "      <td>[(33.76873440000001, 72.362147)]</td>\n",
       "      <td>Attock; Attock District; Punjab; Pakistan</td>\n",
       "      <td>(33.76873440000001, 72.362147)</td>\n",
       "      <td>33.768734</td>\n",
       "      <td>72.362147</td>\n",
       "      <td>Islamabad (ICT), Pakistan</td>\n",
       "      <td>(33.7293882, 73.0931461)</td>\n",
       "      <td>25.0</td>\n",
       "    </tr>\n",
       "    <tr>\n",
       "      <th>2317451</th>\n",
       "      <td>1340267</td>\n",
       "      <td>25.0</td>\n",
       "      <td>25</td>\n",
       "      <td>Livestock</td>\n",
       "      <td>Agriculture</td>\n",
       "      <td>PK</td>\n",
       "      <td>Pakistan</td>\n",
       "      <td>Attock</td>\n",
       "      <td>PKR</td>\n",
       "      <td>245.0</td>\n",
       "      <td>...</td>\n",
       "      <td>1700.0</td>\n",
       "      <td>Attock, Pakistan</td>\n",
       "      <td>[(33.76873440000001, 72.362147)]</td>\n",
       "      <td>Attock; Attock District; Punjab; Pakistan</td>\n",
       "      <td>(33.76873440000001, 72.362147)</td>\n",
       "      <td>33.768734</td>\n",
       "      <td>72.362147</td>\n",
       "      <td>Islamabad (ICT), Pakistan</td>\n",
       "      <td>(33.7293882, 73.0931461)</td>\n",
       "      <td>25.0</td>\n",
       "    </tr>\n",
       "    <tr>\n",
       "      <th>2317452</th>\n",
       "      <td>1340300</td>\n",
       "      <td>25.0</td>\n",
       "      <td>25</td>\n",
       "      <td>Livestock</td>\n",
       "      <td>Agriculture</td>\n",
       "      <td>PY</td>\n",
       "      <td>Paraguay</td>\n",
       "      <td>Concepción</td>\n",
       "      <td>USD</td>\n",
       "      <td>58.0</td>\n",
       "      <td>...</td>\n",
       "      <td>NaN</td>\n",
       "      <td>NaN</td>\n",
       "      <td>NaN</td>\n",
       "      <td>NaN</td>\n",
       "      <td>NaN</td>\n",
       "      <td>NaN</td>\n",
       "      <td>NaN</td>\n",
       "      <td>NaN</td>\n",
       "      <td>NaN</td>\n",
       "      <td>NaN</td>\n",
       "    </tr>\n",
       "  </tbody>\n",
       "</table>\n",
       "<p>2317453 rows × 37 columns</p>\n",
       "</div>"
      ],
      "text/plain": [
       "              id  funded_amount  loan_amount             activity  \\\n",
       "0         653051          300.0          300  Fruits & Vegetables   \n",
       "1         653051          300.0          300  Fruits & Vegetables   \n",
       "2         653051          300.0          300  Fruits & Vegetables   \n",
       "3         653051          300.0          300  Fruits & Vegetables   \n",
       "4         653053          575.0          575             Rickshaw   \n",
       "...          ...            ...          ...                  ...   \n",
       "2317448  1340272           75.0           75            Livestock   \n",
       "2317449  1340253           25.0           25            Livestock   \n",
       "2317450  1340256           25.0           25            Livestock   \n",
       "2317451  1340267           25.0           25            Livestock   \n",
       "2317452  1340300           25.0           25            Livestock   \n",
       "\n",
       "               sector_x country_code country_x      region currency  \\\n",
       "0                  Food           PK  Pakistan      Lahore      PKR   \n",
       "1                  Food           PK  Pakistan      Lahore      PKR   \n",
       "2                  Food           PK  Pakistan      Lahore      PKR   \n",
       "3                  Food           PK  Pakistan      Lahore      PKR   \n",
       "4        Transportation           PK  Pakistan      Lahore      PKR   \n",
       "...                 ...          ...       ...         ...      ...   \n",
       "2317448     Agriculture           MX    Mexico   Iztacalco      MXN   \n",
       "2317449     Agriculture           PY  Paraguay  Concepción      USD   \n",
       "2317450     Agriculture           PK  Pakistan      Attock      PKR   \n",
       "2317451     Agriculture           PK  Pakistan      Attock      PKR   \n",
       "2317452     Agriculture           PY  Paraguay  Concepción      USD   \n",
       "\n",
       "         partner_id  ...     amount       LocationName  \\\n",
       "0             247.0  ...   124250.0   Lahore, Pakistan   \n",
       "1             247.0  ...   199225.0   Lahore, Pakistan   \n",
       "2             247.0  ...  1719325.0   Lahore, Pakistan   \n",
       "3             247.0  ...    38250.0   Lahore, Pakistan   \n",
       "4             247.0  ...   124250.0   Lahore, Pakistan   \n",
       "...             ...  ...        ...                ...   \n",
       "2317448       294.0  ...     1225.0  Iztacalco, Mexico   \n",
       "2317449        58.0  ...        NaN                NaN   \n",
       "2317450       245.0  ...     1700.0   Attock, Pakistan   \n",
       "2317451       245.0  ...     1700.0   Attock, Pakistan   \n",
       "2317452        58.0  ...        NaN                NaN   \n",
       "\n",
       "                                    geocode  \\\n",
       "0         [(31.55460609999999, 74.3571581)]   \n",
       "1         [(31.55460609999999, 74.3571581)]   \n",
       "2         [(31.55460609999999, 74.3571581)]   \n",
       "3         [(31.55460609999999, 74.3571581)]   \n",
       "4         [(31.55460609999999, 74.3571581)]   \n",
       "...                                     ...   \n",
       "2317448  [(19.3948036, -99.09768079999999)]   \n",
       "2317449                                 NaN   \n",
       "2317450    [(33.76873440000001, 72.362147)]   \n",
       "2317451    [(33.76873440000001, 72.362147)]   \n",
       "2317452                                 NaN   \n",
       "\n",
       "                                               names  \\\n",
       "0          Lahore; Lahore District; Punjab; Pakistan   \n",
       "1          Lahore; Lahore District; Punjab; Pakistan   \n",
       "2          Lahore; Lahore District; Punjab; Pakistan   \n",
       "3          Lahore; Lahore District; Punjab; Pakistan   \n",
       "4          Lahore; Lahore District; Punjab; Pakistan   \n",
       "...                                              ...   \n",
       "2317448  Iztacalco; Mexico City; Mexico City; Mexico   \n",
       "2317449                                          NaN   \n",
       "2317450    Attock; Attock District; Punjab; Pakistan   \n",
       "2317451    Attock; Attock District; Punjab; Pakistan   \n",
       "2317452                                          NaN   \n",
       "\n",
       "                                      geo        lat        lon  \\\n",
       "0         (31.55460609999999, 74.3571581)  31.554606  74.357158   \n",
       "1         (31.55460609999999, 74.3571581)  31.554606  74.357158   \n",
       "2         (31.55460609999999, 74.3571581)  31.554606  74.357158   \n",
       "3         (31.55460609999999, 74.3571581)  31.554606  74.357158   \n",
       "4         (31.55460609999999, 74.3571581)  31.554606  74.357158   \n",
       "...                                   ...        ...        ...   \n",
       "2317448  (19.3948036, -99.09768079999999)  19.394804 -99.097681   \n",
       "2317449                               NaN        NaN        NaN   \n",
       "2317450    (33.76873440000001, 72.362147)  33.768734  72.362147   \n",
       "2317451    (33.76873440000001, 72.362147)  33.768734  72.362147   \n",
       "2317452                               NaN        NaN        NaN   \n",
       "\n",
       "                        mpi_region                   mpi_geo rural_pct  \n",
       "0                 Punjab, Pakistan  (31.1704063, 72.7097161)      25.0  \n",
       "1                 Punjab, Pakistan  (31.1704063, 72.7097161)      25.0  \n",
       "2                 Punjab, Pakistan  (31.1704063, 72.7097161)       0.0  \n",
       "3                 Punjab, Pakistan  (31.1704063, 72.7097161)       0.0  \n",
       "4                 Punjab, Pakistan  (31.1704063, 72.7097161)      25.0  \n",
       "...                            ...                       ...       ...  \n",
       "2317448                        MEX                       NaN       0.0  \n",
       "2317449                        NaN                       NaN       NaN  \n",
       "2317450  Islamabad (ICT), Pakistan  (33.7293882, 73.0931461)      25.0  \n",
       "2317451  Islamabad (ICT), Pakistan  (33.7293882, 73.0931461)      25.0  \n",
       "2317452                        NaN                       NaN       NaN  \n",
       "\n",
       "[2317453 rows x 37 columns]"
      ]
     },
     "execution_count": 80,
     "metadata": {},
     "output_type": "execute_result"
    }
   ],
   "source": [
    "df_merged = pd.merge(kiva_loans,df_loan_themes_by_region, on='region', how='left')\n",
    "df_merged"
   ]
  },
  {
   "cell_type": "code",
   "execution_count": 81,
   "metadata": {},
   "outputs": [],
   "source": [
    "df_merged = pd.merge(df_merged, df_kiva_mpi, on='region', how='left')"
   ]
  }
 ],
 "metadata": {
  "kernelspec": {
   "display_name": "datasci",
   "language": "python",
   "name": "python3"
  },
  "language_info": {
   "codemirror_mode": {
    "name": "ipython",
    "version": 3
   },
   "file_extension": ".py",
   "mimetype": "text/x-python",
   "name": "python",
   "nbconvert_exporter": "python",
   "pygments_lexer": "ipython3",
   "version": "3.10.8"
  },
  "orig_nbformat": 4
 },
 "nbformat": 4,
 "nbformat_minor": 2
}
